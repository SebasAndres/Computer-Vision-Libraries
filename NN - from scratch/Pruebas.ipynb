{
 "cells": [
  {
   "cell_type": "code",
   "execution_count": null,
   "metadata": {},
   "outputs": [],
   "source": [
    "model = NeuralNetwork(layers=[\n",
    "    Layer(3, 2), \n",
    "    Layer(2, 2),\n",
    "    Layer(1, 2)   \n",
    "])\n",
    "\n",
    "X = np.array([1,2,3])\n",
    "J = X.T\n",
    "for i, layer in enumerate(model.layers[:-1]):\n",
    "    J = sigmoid(J @ layer.weights)\n",
    "\n",
    "J = sigmoid(J @ model.layers[-1].weights.T)"
   ]
  }
 ],
 "metadata": {
  "language_info": {
   "name": "python"
  },
  "orig_nbformat": 4
 },
 "nbformat": 4,
 "nbformat_minor": 2
}
