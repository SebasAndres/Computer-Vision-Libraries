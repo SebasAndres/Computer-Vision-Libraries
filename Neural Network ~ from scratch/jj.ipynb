{
 "cells": [
  {
   "cell_type": "code",
   "execution_count": null,
   "metadata": {},
   "outputs": [],
   "source": [
    "        for i, x_ in enumerate(X[:3]):\n",
    "            # Preparo el input y el output\n",
    "            x = x_.reshape(784,)\n",
    "            y = Y[i]\n",
    "\n",
    "            # Forwardpropagation:\n",
    "            A, Z = self.forward(x, retLayers=True) # output_layers\n",
    "        \n",
    "            # Backpropagation:\n",
    "            # Arranco con la ultima capa\n",
    "            L = len(self.layers)            \n",
    "            derivada_costo = -(y - A[L])\n",
    "            derivada_act = self.layers[-1].derivada_act(Z[L-1])\n",
    "\n",
    "            # Error imputado\n",
    "            delta_L = derivada_costo @ derivada_act \n",
    "            W_grad_L = delta_L * A[L]\n",
    "            B_grad_L = delta_L\n",
    "\n",
    "            # Actualizo los pesos de la ultima capa\n",
    "            self.layers[-1].weights -= self.l_rate * W_grad_L\n",
    "            self.layers[-1].bias -= self.l_rate * B_grad_L\n",
    "\n",
    "            # Repito el procedimiento en las capas anteriores \n",
    "            for j in range(0, L-1, 1):\n",
    "                # capa l-esima\n",
    "                l = L - j - 1 \n",
    "\n",
    "                # calculo su gradiente\n",
    "                da = self.layers[l].derivada_act(Z[l-1])\n",
    "                W_grad_j = delta_L * self.layers[l].weights * da @ A[l]\n",
    "                B_grad_j = delta_L * self.layers[l-1].weights * da\n",
    "\n",
    "                # Actualizo los pesos de la capa actual\n",
    "                self.layers[j].weights -= self.l_rate * W_grad_j\n",
    "                self.layers[j].bias -= self.l_rate * B_grad_j\n",
    "            pass\n",
    "        pass\n"
   ]
  },
  {
   "cell_type": "code",
   "execution_count": null,
   "metadata": {},
   "outputs": [],
   "source": [
    "    def forward(self, x:np.ndarray, retLayers=False) -> np.ndarray:\n",
    "        # Dado un input X, devuelve el output de la red   \n",
    "        A = [x] # lista de outputs por capa y el input inicial\n",
    "        Z = [] # lista de sumatorias por capa\n",
    "\n",
    "        # Procesa el resultado capa a capa \n",
    "        # Layer 0 -> Layer 1 -> ... -> Layer n\n",
    "        for layer in self.layers:\n",
    "            z = A[-1] @ layer.weights + layer.bias\n",
    "            a = layer.activation(z)\n",
    "            A.append(a)\n",
    "            Z.append(z)\n",
    "\n",
    "        # Si quiero los Z y A de cada capa, los devuelvo\n",
    "        if retLayers:\n",
    "            return A, Z \n",
    "        \n",
    "        return A[-1]  "
   ]
  }
 ],
 "metadata": {
  "language_info": {
   "name": "python"
  },
  "orig_nbformat": 4
 },
 "nbformat": 4,
 "nbformat_minor": 2
}
