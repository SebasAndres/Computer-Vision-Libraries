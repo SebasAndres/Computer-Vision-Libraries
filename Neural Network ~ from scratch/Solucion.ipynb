{
 "cells": [
  {
   "attachments": {},
   "cell_type": "markdown",
   "metadata": {},
   "source": [
    "# Programando una red neuronal desde 0"
   ]
  },
  {
   "cell_type": "code",
   "execution_count": 419,
   "metadata": {},
   "outputs": [],
   "source": [
    "from keras.datasets import mnist\n",
    "import numpy as np\n",
    "from math import e\n",
    "import matplotlib.pyplot as plt\n",
    "from queue import LifoQueue"
   ]
  },
  {
   "cell_type": "code",
   "execution_count": 2,
   "metadata": {},
   "outputs": [],
   "source": [
    "(X_train, y_train), (X_test, y_test) = mnist.load_data()"
   ]
  },
  {
   "attachments": {},
   "cell_type": "markdown",
   "metadata": {},
   "source": [
    "## Clase RedNeuronal\n",
    "\n",
    "Sea $C(a)$ la funcion del coste definida como...\n",
    "$$C=\\frac{1}{2}\\sum_i (y_i - a_i)^2$$\n",
    "\n",
    "Con la funcion de activacion sigmoidea $a(Z^L)$...\n",
    "$$a(z) = \\frac{1}{a+e^{-z}}$$\n",
    "\n",
    "Para la sumatoria $Z$ de la capa $L$...\n",
    "$$Z^L = \\sum w_i^L x_i^{L-1} + B^L$$\n",
    "\n",
    "### Forward Propagation:\n",
    "\n",
    "El output de la L-esima capa es:\n",
    "\n",
    "$$ out^{L} = a(Z^{L}) = a(W^{L}a^{L-1} + b^{L}) = a(\\sum w_i^{L} x_i + b^{L}) $$\n",
    "\n",
    "Donde $a^{L-1}$ es el output de la capa anterior o, en su defecto, el input.\n",
    "\n",
    "### Backward Propagation:\n",
    "\n",
    "Sea $\\delta^L$ el error imputado de la neurona:\n",
    "\n",
    "$$\\delta^L = \\frac{\\partial C}{\\partial a} * \\frac{\\partial a}{\\partial Z^L}$$\n",
    "\n",
    "Vemos el caso de la ultima capa, por regla de la cadena:\n",
    "\n",
    "$$\\frac{\\partial C}{\\partial W^L} = \\delta^L * \\frac{\\partial Z^L}{\\partial W^L} = \\delta^L * a^{L-1}$$\n",
    "$$\\frac{\\partial C}{\\partial B^L} = \\delta^L * \\frac{\\partial Z^L}{\\partial B} = \\delta^L$$\n",
    "\n",
    "Y si L es la primer capa $\\rightarrow a^{L-1}$ es el input.\n",
    "\n",
    "Luego, para las capas anteriores:\n",
    "\n",
    "$$\\frac{\\partial C}{\\partial W^{L-1}} = \\delta^L * \\frac{\\partial Z^L}{\\partial a^{L-1}}\n",
    " * \\frac{\\partial a^{L-1}}{\\partial Z^{L-1}} * \\frac{\\partial Z^{L-1}}{\\partial W^{L-1}} $$\n",
    "\n",
    "$$\\frac{\\partial C}{\\partial B^{L-1}} = \\frac{\\partial Z^L}{\\partial a^{L-1}}\n",
    " * \\frac{\\partial a^{L-1}}{\\partial Z^{L-1}} * \\frac{\\partial Z^{L-1}}{\\partial B^{L-1}}$$\n",
    "\n",
    "Y por regla de la cadena queda:\n",
    "\n",
    "$$\\frac{\\partial C}{\\partial W^{L-1}} = \\delta^L * W^L * \\frac{\\partial a^{L-1}}{\\partial z^{L-1}} * a^{L-2} $$\n",
    "\n",
    "$$\\frac{\\partial C}{\\partial W^{L-1}} = \\delta^L * W^L * \\frac{\\partial a^{L-1}}{\\partial z^{L-1}} $$\n"
   ]
  },
  {
   "cell_type": "code",
   "execution_count": 247,
   "metadata": {},
   "outputs": [
    {
     "data": {
      "image/png": "[encoded data removed]",
      "text/plain": [
       "<Figure size 640x480 with 1 Axes>"
      ]
     },
     "metadata": {},
     "output_type": "display_data"
    }
   ],
   "source": [
    "def plot_image(img_matrix: np.ndarray):\n",
    "    plt.imshow(img_matrix, cmap=plt.get_cmap('gray'))\n",
    "    plt.show()\n",
    "\n",
    "plot_image(X_train[1])"
   ]
  },
  {
   "cell_type": "code",
   "execution_count": 398,
   "metadata": {},
   "outputs": [],
   "source": [
    "class Layer:\n",
    "\n",
    "    def __init__(self, neurons, input_shape, act=\"sigmoid\"):\n",
    "        self.neurons = neurons\n",
    "        self.input_shape = input_shape\n",
    "        self.weights = np.random.rand(self.input_shape, self.neurons)\n",
    "        self.bias = np.random.rand(self.neurons)\n",
    "        self.act = act\n",
    "\n",
    "def sigmoid(x):\n",
    "    return 1 / (1 + e ** -x)\n",
    "\n",
    "def sigmoid_derivative(x):\n",
    "    return sigmoid(x) * (1 - sigmoid(x))"
   ]
  },
  {
   "cell_type": "code",
   "execution_count": 451,
   "metadata": {},
   "outputs": [],
   "source": [
    "class NeuralNetwork:\n",
    "\n",
    "    def __init__(self, input_size, layers, output_size):\n",
    "        # Inicializo la red con los parametros dados\n",
    "        self.input_size = input_size\n",
    "        self.layers = layers\n",
    "        self.output_size = output_size  \n",
    "\n",
    "    def forward(self, X:np.ndarray, retLayers=False) -> np.ndarray:\n",
    "        # Dado un input X, devuelve el output de la red   \n",
    "        J = X\n",
    "        A = LifoQueue()\n",
    "        for layer in self.layers:\n",
    "            J = sigmoid(np.dot(J, layer.weights) + layer.bias)\n",
    "            A.put(J)\n",
    "        return A\n",
    "\n",
    "    def backward(self, X, Y, A, l_rate):\n",
    "        # Dado un input X y un output Y, actualiza los pesos de la red\n",
    "        output = A.get()\n",
    "        error = Y - output\n",
    "        delta_output = error * sigmoid_derivative(output)\n",
    "\n",
    "        a = A.get() # output de la capa anterior a la ultima\n",
    "        d_weights = delta_output.dot(a.weights.T)\n",
    "        d_bias = delta_output\n",
    "\n",
    "        # Actualizo los pesos de la ultima capa\n",
    "        self.layers[-1].weights -= d_weights * l_rate\n",
    "        self.layers[-1].bias -= d_bias * l_rate\n",
    "\n",
    "        for layer in enumerate(self.layers[-2::-1]):\n",
    "            # Calculo el delta de la capa\n",
    "            delta = d_weights * sigmoid_derivative(a)\n",
    "            \n",
    "            d_weights = delta.dot(layer.weights.T)\n",
    "            d_bias = delta\n",
    "            \n",
    "            # Actualizo los pesos de la capa\n",
    "            layer.weights -= d_weights * l_rate\n",
    "            layer.bias -= d_bias * l_rate\n",
    "\n",
    "    def train(self, X, Y, epochs, l_rate): \n",
    "        for _ in range(epochs):\n",
    "            output = self.forward(X)\n",
    "            self.backward(X, Y, output, l_rate)       \n",
    "        \n",
    "    def predict(self, X):\n",
    "        return self.forward(X).get()"
   ]
  },
  {
   "cell_type": "code",
   "execution_count": 452,
   "metadata": {},
   "outputs": [
    {
     "data": {
      "text/plain": [
       "array([0.99993906, 0.99987781, 0.99968674, 0.99966308, 0.99992857,\n",
       "       0.99983356, 0.9998677 , 0.99874626, 0.99993917, 0.99992379])"
      ]
     },
     "execution_count": 452,
     "metadata": {},
     "output_type": "execute_result"
    }
   ],
   "source": [
    "model = NeuralNetwork(\n",
    "                784,\n",
    "                [Layer(16, 784),\n",
    "                 Layer(16, 16),\n",
    "                 Layer(16, 16),\n",
    "                 Layer(10, 16)],\n",
    "                10)\n",
    "\n",
    "model.predict(np.random.rand(784))"
   ]
  },
  {
   "attachments": {},
   "cell_type": "markdown",
   "metadata": {},
   "source": [
    "### Simulacion Backwards"
   ]
  },
  {
   "cell_type": "code",
   "execution_count": 453,
   "metadata": {},
   "outputs": [
    {
     "ename": "ValueError",
     "evalue": "operands could not be broadcast together with shapes (16,10) (1,1,16) (16,10) ",
     "output_type": "error",
     "traceback": [
      "\u001b[1;31m---------------------------------------------------------------------------\u001b[0m",
      "\u001b[1;31mValueError\u001b[0m                                Traceback (most recent call last)",
      "Cell \u001b[1;32mIn[453], line 5\u001b[0m\n\u001b[0;32m      2\u001b[0m y \u001b[39m=\u001b[39m np\u001b[39m.\u001b[39mzeros(\u001b[39m10\u001b[39m)\n\u001b[0;32m      3\u001b[0m y[\u001b[39m0\u001b[39m] \u001b[39m=\u001b[39m \u001b[39m1\u001b[39m\n\u001b[1;32m----> 5\u001b[0m model\u001b[39m.\u001b[39;49mtrain([x], [y], \u001b[39m100\u001b[39;49m, \u001b[39m0.1\u001b[39;49m)\n",
      "Cell \u001b[1;32mIn[451], line 49\u001b[0m, in \u001b[0;36mNeuralNetwork.train\u001b[1;34m(self, X, Y, epochs, l_rate)\u001b[0m\n\u001b[0;32m     47\u001b[0m \u001b[39mfor\u001b[39;00m _ \u001b[39min\u001b[39;00m \u001b[39mrange\u001b[39m(epochs):\n\u001b[0;32m     48\u001b[0m     output \u001b[39m=\u001b[39m \u001b[39mself\u001b[39m\u001b[39m.\u001b[39mforward(X)\n\u001b[1;32m---> 49\u001b[0m     \u001b[39mself\u001b[39;49m\u001b[39m.\u001b[39;49mbackward(X, Y, output, l_rate)\n",
      "Cell \u001b[1;32mIn[451], line 29\u001b[0m, in \u001b[0;36mNeuralNetwork.backward\u001b[1;34m(self, X, Y, A, l_rate)\u001b[0m\n\u001b[0;32m     27\u001b[0m \u001b[39m# Actualizo los pesos de la ultima capa\u001b[39;00m\n\u001b[0;32m     28\u001b[0m a \u001b[39m=\u001b[39m A\u001b[39m.\u001b[39mget() \u001b[39m# output de la capa anterior\u001b[39;00m\n\u001b[1;32m---> 29\u001b[0m \u001b[39mself\u001b[39m\u001b[39m.\u001b[39mlayers[\u001b[39m-\u001b[39m\u001b[39m1\u001b[39m]\u001b[39m.\u001b[39mweights \u001b[39m-\u001b[39m\u001b[39m=\u001b[39m d_weights \u001b[39m*\u001b[39m l_rate\n\u001b[0;32m     30\u001b[0m \u001b[39mself\u001b[39m\u001b[39m.\u001b[39mlayers[\u001b[39m-\u001b[39m\u001b[39m1\u001b[39m]\u001b[39m.\u001b[39mbias \u001b[39m-\u001b[39m\u001b[39m=\u001b[39m d_bias \u001b[39m*\u001b[39m l_rate\n\u001b[0;32m     32\u001b[0m \u001b[39mfor\u001b[39;00m layer \u001b[39min\u001b[39;00m \u001b[39menumerate\u001b[39m(\u001b[39mself\u001b[39m\u001b[39m.\u001b[39mlayers[\u001b[39m-\u001b[39m\u001b[39m2\u001b[39m::\u001b[39m-\u001b[39m\u001b[39m1\u001b[39m]):\n\u001b[0;32m     33\u001b[0m     \u001b[39m# Leo el output de la capa anterior\u001b[39;00m\n",
      "\u001b[1;31mValueError\u001b[0m: operands could not be broadcast together with shapes (16,10) (1,1,16) (16,10) "
     ]
    }
   ],
   "source": [
    "x = X_train[0].reshape(1, 784)\n",
    "y = np.zeros(10)\n",
    "y[0] = 1\n",
    "\n",
    "model.train([x], [y], 100, 0.1)"
   ]
  },
  {
   "cell_type": "code",
   "execution_count": null,
   "metadata": {},
   "outputs": [],
   "source": []
  }
 ],
 "metadata": {
  "kernelspec": {
   "display_name": ".venv",
   "language": "python",
   "name": "python3"
  },
  "language_info": {
   "codemirror_mode": {
    "name": "ipython",
    "version": 3
   },
   "file_extension": ".py",
   "mimetype": "text/x-python",
   "name": "python",
   "nbconvert_exporter": "python",
   "pygments_lexer": "ipython3",
   "version": "3.10.11"
  },
  "orig_nbformat": 4
 },
 "nbformat": 4,
 "nbformat_minor": 2
}
